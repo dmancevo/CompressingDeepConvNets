{
 "cells": [
  {
   "cell_type": "code",
   "execution_count": 1,
   "metadata": {
    "collapsed": false,
    "deletable": true,
    "editable": true
   },
   "outputs": [],
   "source": [
    "import pickle as pkl\n",
    "import numpy as np\n",
    "import pandas as pd\n",
    "\n",
    "try:\n",
    "    df  = pd.read_csv(\"counts_df.csv\")\n",
    "    df0 = pd.read_csv(\"counts_df_baseline.csv\")\n",
    "except IOError:\n",
    "    \n",
    "    print \"IOError\"\n",
    "\n",
    "    with open(\"test_know_dist_T5.0_beta0.05.pkl\",\"rb\") as f:\n",
    "        tst, tst_n_boxes, tst_scores = pkl.load(f)\n",
    "\n",
    "    tst = tst.astype(float)\n",
    "\n",
    "    df = pd.DataFrame({\n",
    "        'counts':tst,\n",
    "        'log_counts':np.log(1+tst),\n",
    "        'n_boxes':tst_n_boxes,\n",
    "        'pixels_above':tst_scores,\n",
    "    })\n",
    "\n",
    "    df.to_csv(\"counts_df.csv\", index=False)\n",
    "    \n",
    "    with open(\"test_baseline.pkl\",\"rb\") as f:\n",
    "        tst_base, tst_n_boxes_base, tst_scores_base = pkl.load(f)\n",
    "\n",
    "    tst_base = tst_base.astype(float)\n",
    "\n",
    "    df0 = pd.DataFrame({\n",
    "        'counts':tst_base,\n",
    "        'log_counts':np.log(1+tst_base),\n",
    "        'n_boxes':tst_n_boxes_base,\n",
    "        'pixels_above':tst_scores_base,\n",
    "    })\n",
    "\n",
    "    df0.to_csv(\"counts_df_baseline.csv\", index=False)"
   ]
  },
  {
   "cell_type": "code",
   "execution_count": 2,
   "metadata": {
    "collapsed": false,
    "deletable": true,
    "editable": true
   },
   "outputs": [
    {
     "data": {
      "text/html": [
       "<div>\n",
       "<table border=\"1\" class=\"dataframe\">\n",
       "  <thead>\n",
       "    <tr style=\"text-align: right;\">\n",
       "      <th></th>\n",
       "      <th>counts</th>\n",
       "      <th>log_counts</th>\n",
       "      <th>n_boxes</th>\n",
       "      <th>pixels_above</th>\n",
       "    </tr>\n",
       "  </thead>\n",
       "  <tbody>\n",
       "    <tr>\n",
       "      <th>0</th>\n",
       "      <td>1.0</td>\n",
       "      <td>0.693147</td>\n",
       "      <td>0</td>\n",
       "      <td>0.0</td>\n",
       "    </tr>\n",
       "    <tr>\n",
       "      <th>1</th>\n",
       "      <td>2.0</td>\n",
       "      <td>1.098612</td>\n",
       "      <td>2</td>\n",
       "      <td>1459.0</td>\n",
       "    </tr>\n",
       "    <tr>\n",
       "      <th>2</th>\n",
       "      <td>5.0</td>\n",
       "      <td>1.791759</td>\n",
       "      <td>6</td>\n",
       "      <td>6878.0</td>\n",
       "    </tr>\n",
       "    <tr>\n",
       "      <th>3</th>\n",
       "      <td>1.0</td>\n",
       "      <td>0.693147</td>\n",
       "      <td>6</td>\n",
       "      <td>2382.0</td>\n",
       "    </tr>\n",
       "    <tr>\n",
       "      <th>4</th>\n",
       "      <td>1.0</td>\n",
       "      <td>0.693147</td>\n",
       "      <td>6</td>\n",
       "      <td>5811.0</td>\n",
       "    </tr>\n",
       "    <tr>\n",
       "      <th>5</th>\n",
       "      <td>6.0</td>\n",
       "      <td>1.945910</td>\n",
       "      <td>6</td>\n",
       "      <td>7385.0</td>\n",
       "    </tr>\n",
       "    <tr>\n",
       "      <th>6</th>\n",
       "      <td>2.0</td>\n",
       "      <td>1.098612</td>\n",
       "      <td>6</td>\n",
       "      <td>6595.0</td>\n",
       "    </tr>\n",
       "    <tr>\n",
       "      <th>7</th>\n",
       "      <td>2.0</td>\n",
       "      <td>1.098612</td>\n",
       "      <td>2</td>\n",
       "      <td>1056.0</td>\n",
       "    </tr>\n",
       "    <tr>\n",
       "      <th>8</th>\n",
       "      <td>1.0</td>\n",
       "      <td>0.693147</td>\n",
       "      <td>4</td>\n",
       "      <td>2366.0</td>\n",
       "    </tr>\n",
       "    <tr>\n",
       "      <th>9</th>\n",
       "      <td>1.0</td>\n",
       "      <td>0.693147</td>\n",
       "      <td>4</td>\n",
       "      <td>2225.0</td>\n",
       "    </tr>\n",
       "  </tbody>\n",
       "</table>\n",
       "</div>"
      ],
      "text/plain": [
       "   counts  log_counts  n_boxes  pixels_above\n",
       "0     1.0    0.693147        0           0.0\n",
       "1     2.0    1.098612        2        1459.0\n",
       "2     5.0    1.791759        6        6878.0\n",
       "3     1.0    0.693147        6        2382.0\n",
       "4     1.0    0.693147        6        5811.0\n",
       "5     6.0    1.945910        6        7385.0\n",
       "6     2.0    1.098612        6        6595.0\n",
       "7     2.0    1.098612        2        1056.0\n",
       "8     1.0    0.693147        4        2366.0\n",
       "9     1.0    0.693147        4        2225.0"
      ]
     },
     "execution_count": 2,
     "metadata": {},
     "output_type": "execute_result"
    }
   ],
   "source": [
    "df.head(10)"
   ]
  },
  {
   "cell_type": "code",
   "execution_count": 3,
   "metadata": {
    "collapsed": false,
    "deletable": true,
    "editable": true,
    "scrolled": false
   },
   "outputs": [
    {
     "data": {
      "image/png": "[encoded data removed]",
      "text/plain": [
       "<matplotlib.figure.Figure at 0x7f1a20902c10>"
      ]
     },
     "metadata": {},
     "output_type": "display_data"
    }
   ],
   "source": [
    "import matplotlib.pyplot as plt\n",
    "import seaborn as sns\n",
    "\n",
    "%matplotlib inline\n",
    "\n",
    "sns.set_style(\"white\")\n",
    "\n",
    "plt.rcParams['figure.figsize'] = (10, 6)\n",
    "\n",
    "plt.rcParams['xtick.labelsize'] = 15\n",
    "plt.rcParams['ytick.labelsize'] = 15\n",
    "plt.rcParams['axes.labelsize']  = 15\n",
    "\n",
    "ax = sns.distplot(df.counts, kde=False)\n"
   ]
  },
  {
   "cell_type": "markdown",
   "metadata": {
    "deletable": true,
    "editable": true
   },
   "source": [
    "To test how well the model performes while counting the number of people in an image we test the model a total of one thousand times. In each of these iterations we split the data-set in half (a training and a testing half) and train a gradient boosting regressor based with a simple linear model as its base learner."
   ]
  },
  {
   "cell_type": "code",
   "execution_count": 4,
   "metadata": {
    "collapsed": false,
    "deletable": true,
    "editable": true
   },
   "outputs": [
    {
     "name": "stderr",
     "output_type": "stream",
     "text": [
      "/usr/local/lib/python2.7/dist-packages/sklearn/cross_validation.py:44: DeprecationWarning: This module was deprecated in version 0.18 in favor of the model_selection module into which all the refactored classes and functions are moved. Also note that the interface of the new CV iterators are different from that of this module. This module will be removed in 0.20.\n",
      "  \"This module will be removed in 0.20.\", DeprecationWarning)\n",
      "/usr/local/lib/python2.7/dist-packages/sklearn/metrics/classification.py:1113: UndefinedMetricWarning: Precision and F-score are ill-defined and being set to 0.0 in labels with no predicted samples.\n",
      "  'precision', 'predicted', average, warn_for)\n",
      "/usr/local/lib/python2.7/dist-packages/sklearn/metrics/classification.py:1115: UndefinedMetricWarning: Recall and F-score are ill-defined and being set to 0.0 in labels with no true samples.\n",
      "  'recall', 'true', average, warn_for)\n"
     ]
    },
    {
     "name": "stdout",
     "output_type": "stream",
     "text": [
      "R2 Score 0.438344973656\n",
      "R2 Score 0.509090038122\n"
     ]
    }
   ],
   "source": [
    "from sklearn.model_selection import train_test_split\n",
    "from sklearn.metrics import r2_score\n",
    "from sklearn.metrics import precision_recall_fscore_support\n",
    "from xgboost import XGBRegressor as XGB\n",
    "\n",
    "#data = {\"value_{0}\".format(i):[] for i in range(7)}\n",
    "#data[\"metric\"] =  []\n",
    "#data[\"model\"]  =  []\n",
    "\n",
    "data = {\"score\":[], \"metric\":[], \"model\":[], \"people count\":[]}\n",
    "\n",
    "R2 = []\n",
    "\n",
    "\n",
    "for mod, dframe in [(\"baseline\", df0), (\"knowledge distillation\", df)]:\n",
    "    \n",
    "    r2, f1, pre, rec, = np.empty(shape=(0,7)), np.empty(shape=(0,7)), np.empty(shape=(0,7)), np.empty(shape=(0,7))\n",
    "    for _ in range(1000):\n",
    "\n",
    "        reg  = XGB(\n",
    "            max_depth=1,\n",
    "            learning_rate=0.3,\n",
    "            n_estimators=35\n",
    "        )\n",
    "\n",
    "        X_trn, X_tst, y_trn, y_tst = train_test_split(\n",
    "            dframe[['n_boxes','pixels_above']],\n",
    "            dframe.log_counts,\n",
    "            test_size=0.5,\n",
    "        )\n",
    "\n",
    "        reg.fit(X_trn, y_trn)\n",
    "\n",
    "        y_true, y_pred = np.exp(y_tst), np.exp(reg.predict(X_tst))\n",
    "\n",
    "        R2.append(r2_score(y_true, y_pred))\n",
    "\n",
    "        precision, recall, f_score, _ = precision_recall_fscore_support(\n",
    "            y_true.astype(int),\n",
    "            np.round(y_pred).astype(int),\n",
    "        )\n",
    "        \n",
    "        for metric, score in \\\n",
    "        [(\"Precision\", precision), (\"Recall\", recall), (\"F1 Score\", f_score)]:\n",
    "        \n",
    "            #data[\"metric\"].append(metric)\n",
    "            #data[\"model\"].append(mod)\n",
    "            \n",
    "            #for i in range(7):\n",
    "            #    data[\"value_{0}\".format(i)].append(value[i])\n",
    "            \n",
    "            for i in range(6):\n",
    "                data[\"metric\"].append(metric)\n",
    "                data[\"model\"].append(mod)\n",
    "                data[\"score\"].append(score[i])\n",
    "                data[\"people count\"].append(i)\n",
    "                \n",
    "    print \"R2 Score\", np.mean(R2)"
   ]
  },
  {
   "cell_type": "code",
   "execution_count": 5,
   "metadata": {
    "collapsed": false,
    "deletable": true,
    "editable": true
   },
   "outputs": [
    {
     "data": {
      "text/html": [
       "<div>\n",
       "<table border=\"1\" class=\"dataframe\">\n",
       "  <thead>\n",
       "    <tr style=\"text-align: right;\">\n",
       "      <th></th>\n",
       "      <th>metric</th>\n",
       "      <th>model</th>\n",
       "      <th>people count</th>\n",
       "      <th>score</th>\n",
       "    </tr>\n",
       "  </thead>\n",
       "  <tbody>\n",
       "    <tr>\n",
       "      <th>0</th>\n",
       "      <td>Precision</td>\n",
       "      <td>baseline</td>\n",
       "      <td>0</td>\n",
       "      <td>0.800000</td>\n",
       "    </tr>\n",
       "    <tr>\n",
       "      <th>1</th>\n",
       "      <td>Precision</td>\n",
       "      <td>baseline</td>\n",
       "      <td>1</td>\n",
       "      <td>0.536458</td>\n",
       "    </tr>\n",
       "    <tr>\n",
       "      <th>2</th>\n",
       "      <td>Precision</td>\n",
       "      <td>baseline</td>\n",
       "      <td>2</td>\n",
       "      <td>0.292929</td>\n",
       "    </tr>\n",
       "    <tr>\n",
       "      <th>3</th>\n",
       "      <td>Precision</td>\n",
       "      <td>baseline</td>\n",
       "      <td>3</td>\n",
       "      <td>0.357143</td>\n",
       "    </tr>\n",
       "    <tr>\n",
       "      <th>4</th>\n",
       "      <td>Precision</td>\n",
       "      <td>baseline</td>\n",
       "      <td>4</td>\n",
       "      <td>0.000000</td>\n",
       "    </tr>\n",
       "  </tbody>\n",
       "</table>\n",
       "</div>"
      ],
      "text/plain": [
       "      metric     model  people count     score\n",
       "0  Precision  baseline             0  0.800000\n",
       "1  Precision  baseline             1  0.536458\n",
       "2  Precision  baseline             2  0.292929\n",
       "3  Precision  baseline             3  0.357143\n",
       "4  Precision  baseline             4  0.000000"
      ]
     },
     "execution_count": 5,
     "metadata": {},
     "output_type": "execute_result"
    }
   ],
   "source": [
    "table = pd.DataFrame(data)\n",
    "\n",
    "table.head()"
   ]
  },
  {
   "cell_type": "code",
   "execution_count": 12,
   "metadata": {
    "collapsed": false,
    "deletable": true,
    "editable": true,
    "scrolled": false
   },
   "outputs": [
    {
     "data": {
      "text/plain": [
       "<seaborn.axisgrid.FacetGrid at 0x7f1a143c7bd0>"
      ]
     },
     "execution_count": 12,
     "metadata": {},
     "output_type": "execute_result"
    },
    {
     "data": {
      "image/png": "[encoded data removed]",
      "text/plain": [
       "<matplotlib.figure.Figure at 0x7f1a154af590>"
      ]
     },
     "metadata": {},
     "output_type": "display_data"
    }
   ],
   "source": [
    "import matplotlib.pyplot as plt\n",
    "import seaborn as sns\n",
    "\n",
    "%matplotlib inline\n",
    "\n",
    "sns.set(style=\"white\")\n",
    "\n",
    "fnt = 20\n",
    "\n",
    "plt.rcParams['xtick.labelsize'] = fnt\n",
    "plt.rcParams['ytick.labelsize'] = fnt\n",
    "plt.rcParams['axes.labelsize']  = fnt\n",
    "plt.rcParams['legend.fontsize'] = fnt\n",
    "\n",
    "sns.factorplot(\n",
    "    x=\"metric\",\n",
    "    y=\"score\",\n",
    "    hue=\"model\",\n",
    "    col=\"people count\",\n",
    "    data=table,\n",
    "    kind=\"bar\",\n",
    "    col_wrap=3,\n",
    ")"
   ]
  }
 ],
 "metadata": {
  "kernelspec": {
   "display_name": "Python 2",
   "language": "python",
   "name": "python2"
  },
  "language_info": {
   "codemirror_mode": {
    "name": "ipython",
    "version": 2
   },
   "file_extension": ".py",
   "mimetype": "text/x-python",
   "name": "python",
   "nbconvert_exporter": "python",
   "pygments_lexer": "ipython2",
   "version": "2.7.9"
  }
 },
 "nbformat": 4,
 "nbformat_minor": 2
}
